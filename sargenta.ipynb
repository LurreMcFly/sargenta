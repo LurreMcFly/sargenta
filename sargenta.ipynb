{
 "cells": [
  {
   "cell_type": "markdown",
   "metadata": {},
   "source": [
    "## Web scraping prices form sargenta.se"
   ]
  },
  {
   "cell_type": "markdown",
   "metadata": {},
   "source": [
    "Web scraping of the Swedish smithing website sargenta.se\n",
    "\n",
    "Dad wanted an Excel file with the prices and the article number of all tools and machines at sargenta.se. This is a web scraper that saves the asked for excel sheet."
   ]
  },
  {
   "cell_type": "markdown",
   "metadata": {},
   "source": [
    "Importing packages"
   ]
  },
  {
   "cell_type": "code",
   "execution_count": 1,
   "metadata": {},
   "outputs": [],
   "source": [
    "import requests\n",
    "import re\n",
    "from bs4 import BeautifulSoup"
   ]
  },
  {
   "cell_type": "markdown",
   "metadata": {},
   "source": [
    "The website we are going to scrape https://www.sargenta.se/ and the categories of interest are _verktyg_ (swe) = _tools_ (eng) and _maskiner_ (swe) = _machines_ (eng)."
   ]
  },
  {
   "cell_type": "code",
   "execution_count": 2,
   "metadata": {},
   "outputs": [],
   "source": [
    "sargeta = 'https://www.sargenta.se/'\n",
    "categories_of_interest = ['verktyg', 'maskiner']"
   ]
  },
  {
   "cell_type": "markdown",
   "metadata": {},
   "source": [
    "The url of the sargenta.se shop for `category`."
   ]
  },
  {
   "cell_type": "code",
   "execution_count": 3,
   "metadata": {},
   "outputs": [],
   "source": [
    "def url_from_category(category, url = 'https://www.sargenta.se/'):\n",
    "    \"\"\"\n",
    "    Returns the url of the sargenta.se shop for category.\n",
    "    \"\"\"\n",
    "    return url + 'shop/' + category"
   ]
  },
  {
   "cell_type": "markdown",
   "metadata": {},
   "source": [
    "Creates a webscraping `BeautifulSoup` object `soup` for scraping."
   ]
  },
  {
   "cell_type": "code",
   "execution_count": 4,
   "metadata": {},
   "outputs": [],
   "source": [
    "def soup_from_url(url):\n",
    "    \"\"\"\n",
    "    Returns a BeautifulSoup object\n",
    "    \"\"\"\n",
    "    client = requests.get(url).text\n",
    "    soup = BeautifulSoup(client, \"html.parser\")\n",
    "    return soup"
   ]
  },
  {
   "cell_type": "markdown",
   "metadata": {},
   "source": [
    "Collects the sidebar on the webpage from `soup`."
   ]
  },
  {
   "cell_type": "code",
   "execution_count": 5,
   "metadata": {},
   "outputs": [],
   "source": [
    "def sidebar_from_soup(soup):\n",
    "    \"\"\"\n",
    "    Returns a BeautifulSoup object containing the sidebar of the webpage\n",
    "    \"\"\"\n",
    "    return soup.find_all('div', {'id': 'sidebar_v'})[0].find_all('a')"
   ]
  },
  {
   "cell_type": "markdown",
   "metadata": {},
   "source": [
    "Finds all items in a catageory. For example the category _tools_ contains _hammer_."
   ]
  },
  {
   "cell_type": "code",
   "execution_count": 6,
   "metadata": {},
   "outputs": [],
   "source": [
    "def list_urls_from_sidebar(sidebar, url):\n",
    "    \"\"\"\n",
    "    Returns list of all items beloning to the category\n",
    "    \"\"\"\n",
    "    item_list = []\n",
    "    article_type = url.split('/')[-1]\n",
    "    shop_article = \"/shop/\" + str(article_type) + \"/\"\n",
    "    \n",
    "    for item in sidebar:\n",
    "        if shop_article in item.attrs['href']:\n",
    "            item_list.append(item.attrs['href'])\n",
    "    \n",
    "    return item_list"
   ]
  },
  {
   "cell_type": "markdown",
   "metadata": {},
   "source": [
    "Goes through an item and returns all article numbers and prices for the item."
   ]
  },
  {
   "cell_type": "code",
   "execution_count": 7,
   "metadata": {},
   "outputs": [],
   "source": [
    "def append_from_item(item, url):\n",
    "    \"\"\"\n",
    "    Returns all article numbers and prices for an item.\n",
    "    \"\"\"\n",
    "    this_item_list = []\n",
    "    prev_this_item_list = [[]]\n",
    "    page_number = 1\n",
    "    \n",
    "    while this_item_list != prev_this_item_list:\n",
    "        item_url = url + item + '?p=' + str(page_number)\n",
    "        soup_item = soup_from_url(item_url)\n",
    "        articles = soup_item.find_all('div', {'class':'listpris'})\n",
    "        \n",
    "        for article in articles:\n",
    "            price_article = article.text.replace('\\t', '')\\\n",
    "                                        .replace('\\n', '')\\\n",
    "                                        .replace(' ', '')\\\n",
    "                                        .replace('\\r', '')\\\n",
    "                                        .replace('Artnr', '')\\\n",
    "                                        .split('*')\n",
    "            \n",
    "            if len(this_item_list) > 1:\n",
    "                 if price_article[1] == this_item_list[0][1]:\n",
    "                    break\n",
    "\n",
    "            this_item_list.append(price_article)\n",
    "            \n",
    "        page_number += 1\n",
    "        prev_this_item_list = this_item_list\n",
    "        \n",
    "    return this_item_list"
   ]
  },
  {
   "cell_type": "markdown",
   "metadata": {},
   "source": [
    "Loops through all items in a category and creates a list of article number and prices for all items."
   ]
  },
  {
   "cell_type": "code",
   "execution_count": 8,
   "metadata": {},
   "outputs": [],
   "source": [
    "def articles_from_item_list(item_list, url, articles_list):\n",
    "    \"\"\"\n",
    "    Returns a list of article number and prices for all items in a category.\n",
    "    \"\"\"\n",
    "    for item in item_list:\n",
    "        this_item_list = append_from_item(item, url)\n",
    "        articles_list = articles_list + this_item_list\n",
    "            \n",
    "    return articles_list"
   ]
  },
  {
   "cell_type": "markdown",
   "metadata": {},
   "source": [
    "Finaly a function that puts it all together. Returns the list containing all article numbers and prices for all `categories`."
   ]
  },
  {
   "cell_type": "code",
   "execution_count": 9,
   "metadata": {},
   "outputs": [],
   "source": [
    "def articles_list_from_category(categories):\n",
    "    \"\"\"\n",
    "    Returns the list containing all article numbers and prices for all categories\n",
    "    \"\"\"\n",
    "    articles_list = []\n",
    "    \n",
    "    for category in categories:\n",
    "        url_category = url_from_category(str(category))\n",
    "        soup = soup_from_url(url_category)\n",
    "        sidebar = sidebar_from_soup(soup)\n",
    "        item_list = list_urls_from_sidebar(sidebar, url_category)\n",
    "        \n",
    "        articles_list = articles_list + articles_from_item_list(item_list, url_category, articles_list)\n",
    "        \n",
    "    return articles_list"
   ]
  },
  {
   "cell_type": "markdown",
   "metadata": {},
   "source": [
    "Run the function `articles_list_from_category` and print top 5 articles and corresponing price."
   ]
  },
  {
   "cell_type": "code",
   "execution_count": 10,
   "metadata": {},
   "outputs": [
    {
     "data": {
      "text/plain": [
       "[['75,00kr/par', '7888-1'],\n",
       " ['69,00kr/st', '9220'],\n",
       " ['172,00kr/st', '7804'],\n",
       " ['495,00kr/st', '7805'],\n",
       " ['120,00kr/st', '9221']]"
      ]
     },
     "execution_count": 10,
     "metadata": {},
     "output_type": "execute_result"
    }
   ],
   "source": [
    "articles_list = articles_list_from_category(categories_of_interest)\n",
    "articles_list[:5]"
   ]
  },
  {
   "cell_type": "markdown",
   "metadata": {},
   "source": [
    "We want to expot the results to an excel file. This is done using `pandas`."
   ]
  },
  {
   "cell_type": "code",
   "execution_count": 11,
   "metadata": {},
   "outputs": [],
   "source": [
    "import pandas as pd"
   ]
  },
  {
   "cell_type": "code",
   "execution_count": 12,
   "metadata": {},
   "outputs": [
    {
     "data": {
      "text/html": [
       "<div>\n",
       "<style scoped>\n",
       "    .dataframe tbody tr th:only-of-type {\n",
       "        vertical-align: middle;\n",
       "    }\n",
       "\n",
       "    .dataframe tbody tr th {\n",
       "        vertical-align: top;\n",
       "    }\n",
       "\n",
       "    .dataframe thead th {\n",
       "        text-align: right;\n",
       "    }\n",
       "</style>\n",
       "<table border=\"1\" class=\"dataframe\">\n",
       "  <thead>\n",
       "    <tr style=\"text-align: right;\">\n",
       "      <th></th>\n",
       "      <th>Pris</th>\n",
       "      <th>Artikelnummer</th>\n",
       "    </tr>\n",
       "  </thead>\n",
       "  <tbody>\n",
       "    <tr>\n",
       "      <th>0</th>\n",
       "      <td>75,00kr/par</td>\n",
       "      <td>7888-1</td>\n",
       "    </tr>\n",
       "    <tr>\n",
       "      <th>1</th>\n",
       "      <td>69,00kr/st</td>\n",
       "      <td>9220</td>\n",
       "    </tr>\n",
       "    <tr>\n",
       "      <th>2</th>\n",
       "      <td>172,00kr/st</td>\n",
       "      <td>7804</td>\n",
       "    </tr>\n",
       "    <tr>\n",
       "      <th>3</th>\n",
       "      <td>495,00kr/st</td>\n",
       "      <td>7805</td>\n",
       "    </tr>\n",
       "    <tr>\n",
       "      <th>4</th>\n",
       "      <td>120,00kr/st</td>\n",
       "      <td>9221</td>\n",
       "    </tr>\n",
       "  </tbody>\n",
       "</table>\n",
       "</div>"
      ],
      "text/plain": [
       "          Pris Artikelnummer\n",
       "0  75,00kr/par        7888-1\n",
       "1   69,00kr/st          9220\n",
       "2  172,00kr/st          7804\n",
       "3  495,00kr/st          7805\n",
       "4  120,00kr/st          9221"
      ]
     },
     "execution_count": 12,
     "metadata": {},
     "output_type": "execute_result"
    }
   ],
   "source": [
    "df = pd.DataFrame(articles_list, columns = ['Pris', 'Artikelnummer'])\n",
    "df.head()"
   ]
  },
  {
   "cell_type": "code",
   "execution_count": 13,
   "metadata": {},
   "outputs": [],
   "source": [
    "df.to_excel(\"sargenta.xlsx\")"
   ]
  }
 ],
 "metadata": {
  "kernelspec": {
   "display_name": "Python 3",
   "language": "python",
   "name": "python3"
  },
  "language_info": {
   "codemirror_mode": {
    "name": "ipython",
    "version": 3
   },
   "file_extension": ".py",
   "mimetype": "text/x-python",
   "name": "python",
   "nbconvert_exporter": "python",
   "pygments_lexer": "ipython3",
   "version": "3.7.5"
  }
 },
 "nbformat": 4,
 "nbformat_minor": 2
}
